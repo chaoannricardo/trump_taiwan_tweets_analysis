{
 "cells": [
  {
   "cell_type": "code",
   "execution_count": 3,
   "metadata": {},
   "outputs": [],
   "source": [
    "import numpy as np\n",
    "import pandas as pd\n",
    "\n",
    "# Load Dataset\n",
    "dataset = pd.read_csv(\"retweet_data.csv\")[:610]"
   ]
  },
  {
   "cell_type": "code",
   "execution_count": 7,
   "metadata": {},
   "outputs": [],
   "source": [
    "X = dataset['retweet_text'].tolist()"
   ]
  },
  {
   "cell_type": "code",
   "execution_count": 9,
   "metadata": {},
   "outputs": [
    {
     "name": "stderr",
     "output_type": "stream",
     "text": [
      "[nltk_data] Downloading package wordnet to\n",
      "[nltk_data]     C:\\Users\\cheng\\AppData\\Roaming\\nltk_data...\n",
      "[nltk_data]   Unzipping corpora\\wordnet.zip.\n"
     ]
    },
    {
     "data": {
      "text/plain": [
       "True"
      ]
     },
     "execution_count": 9,
     "metadata": {},
     "output_type": "execute_result"
    }
   ],
   "source": [
    "import nltk\n",
    "nltk.download('wordnet')"
   ]
  },
  {
   "cell_type": "code",
   "execution_count": 10,
   "metadata": {},
   "outputs": [],
   "source": [
    "import re\n",
    "import nltk\n",
    "documents = []\n",
    "\n",
    "from nltk.stem import WordNetLemmatizer\n",
    "\n",
    "stemmer = WordNetLemmatizer()\n",
    "\n",
    "for num in range(len(X)):  \n",
    "    # 去URL\n",
    "    document = re.sub(r'\\w+:\\/{2}[\\d\\w-]+(\\.[\\d\\w-]+)*(?:(?:\\/[^\\s/]*))*', '', X[num])\n",
    "    \n",
    "    # 去標點\n",
    "    document = re.sub(r'\\W', ' ', document)\n",
    "\n",
    "    # 去單一字母s\n",
    "    document = re.sub(r'\\s+[a-zA-Z]\\s+', ' ', document)\n",
    "\n",
    "    # Substituting multiple spaces with single space\n",
    "    document = re.sub(r'\\s+', ' ', document, flags=re.I)\n",
    "\n",
    "    # 轉小寫\n",
    "    document = document.lower()\n",
    "\n",
    "    # Lemmatization\n",
    "    document = document.split()\n",
    "\n",
    "    document = [stemmer.lemmatize(word) for word in document]\n",
    "    document = ' '.join(document)\n",
    "\n",
    "    documents.append([document])"
   ]
  },
  {
   "cell_type": "code",
   "execution_count": 12,
   "metadata": {},
   "outputs": [],
   "source": [
    "from sklearn.feature_extraction.text import TfidfVectorizer\n",
    "vectorizer = TfidfVectorizer(stop_words='english')\n",
    "\n",
    "X_tfidf = vectorizer.fit_transform(X)"
   ]
  },
  {
   "cell_type": "code",
   "execution_count": 22,
   "metadata": {},
   "outputs": [],
   "source": [
    "# from sklearn.decomposition import PCA \n",
    "# pca=PCA(n_components=2)\n",
    "# newData=pca.fit_transform(X_tfidf)\n",
    "\n",
    "from sklearn.decomposition import TruncatedSVD\n",
    "svd = TruncatedSVD(n_components=2, n_iter=7, random_state=42)\n",
    "X_tfidf_reduce = svd.fit_transform(X_tfidf)"
   ]
  },
  {
   "cell_type": "code",
   "execution_count": 26,
   "metadata": {
    "collapsed": true
   },
   "outputs": [
    {
     "data": {
      "text/plain": [
       "array([ 7.05526878e-02,  6.43779114e-02,  3.06264607e-02,  2.25267939e-02,\n",
       "        1.13388392e-01,  5.99663555e-02,  5.87304090e-02,  3.73960419e-02,\n",
       "        6.78897197e-03,  8.86199401e-03,  1.96004380e-02,  2.35038932e-02,\n",
       "        3.33786919e-02,  3.86903329e-02,  2.85174447e-02,  2.46145979e-02,\n",
       "        3.72127342e-02,  3.70188307e-02,  3.15876058e-02,  3.00671175e-02,\n",
       "        1.06136779e-02,  2.04807054e-02,  1.32309051e-01,  1.22256467e-02,\n",
       "        1.98418235e-02,  3.92295953e-02,  4.33652520e-03,  5.08781735e-02,\n",
       "        1.81127902e-02,  4.91114600e-02,  5.94486592e-02,  4.56365416e-02,\n",
       "        1.64087056e-02,  2.62319910e-02,  3.40742967e-02,  6.07077540e-02,\n",
       "        5.20380818e-02,  2.63559953e-03,  6.08498938e-03,  4.46874128e-02,\n",
       "        3.94385757e-02,  1.68572593e-02,  2.69182100e-02,  6.46550537e-03,\n",
       "        3.43097529e-02,  2.15896575e-02,  4.48406477e-02,  1.01880858e-02,\n",
       "        1.14019162e-01,  1.00022866e-02,  7.74438748e-02,  4.77428232e-02,\n",
       "        4.32573578e-03,  4.21185031e-02,  7.13215434e-02,  1.30254359e-02,\n",
       "        1.56985178e-02,  3.01154776e-02,  2.55302197e-02,  5.67457398e-02,\n",
       "        6.18930647e-02,  8.56149381e-03,  1.10072162e-01,  8.61587433e-02,\n",
       "        1.16375637e-01,  7.85333300e-02,  2.71285737e-02,  1.31521499e-02,\n",
       "        4.52618991e-03,  1.02284714e-01,  5.83496412e-02,  7.59255141e-03,\n",
       "        3.65636479e-02,  4.14270793e-02,  2.63709885e-04,  4.13818719e-02,\n",
       "        4.30948482e-02,  1.16912626e-02,  7.52673584e-02,  2.14321543e-02,\n",
       "        2.64431401e-02,  9.97644162e-03,  3.54405834e-02,  3.06129943e-02,\n",
       "        1.63193574e-01,  7.46471822e-02,  6.80810357e-02,  1.88361751e-02,\n",
       "        6.38122845e-02,  2.64355800e-02,  2.11898238e-02,  2.95023880e-02,\n",
       "        1.06503223e-02,  1.35270875e-02,  1.15178982e-02,  1.26583639e-02,\n",
       "        1.73486188e-02,  2.27786119e-02,  9.91419059e-03,  3.65330788e-02,\n",
       "        2.28140550e-02,  3.30938535e-02,  9.99781192e-03,  7.54786425e-03,\n",
       "        3.43669993e-02,  2.49408994e-02,  1.58551993e-02,  2.41586058e-02,\n",
       "        1.00753302e-01,  1.66064750e-02,  1.24388021e-02,  2.03064475e-01,\n",
       "        2.20692555e-01,  2.36699016e-01,  1.95617311e-01,  1.95617311e-01,\n",
       "        1.95617311e-01,  2.99043378e-01,  2.15770923e-01,  1.79322355e-01,\n",
       "        3.40088338e-01,  2.38466046e-01,  1.43394119e-01,  2.53527484e-01,\n",
       "        3.58705869e-01,  2.57169640e-01,  2.11408815e-01,  3.39815314e-01,\n",
       "        1.79322355e-01,  1.79322355e-01,  1.79322355e-01,  2.04508341e-01,\n",
       "        1.41938528e-01,  1.81884786e-01,  2.24569554e-01,  1.90077512e-01,\n",
       "        2.68418637e-01,  3.98177922e-01,  3.16107550e-01,  2.32334740e-01,\n",
       "        2.58385252e-01,  3.23905799e-01,  1.91386848e-01,  1.61056553e-01,\n",
       "        3.15318663e-01,  1.96245692e-01,  2.00423673e-01,  4.24297079e-01,\n",
       "        2.61987757e-01,  3.17535101e-01,  4.41902366e-01,  1.86388319e-01,\n",
       "        2.93881784e-01,  1.95313084e-01,  1.76218696e-01,  4.42041583e-01,\n",
       "        1.19948133e-01,  1.17229484e-01,  1.19948133e-01,  1.94538099e-01,\n",
       "        3.00467372e-01,  2.30161621e-01,  2.03676517e-01,  1.08218686e-01,\n",
       "        3.74878278e-01,  3.06113624e-01,  1.18434298e-01,  2.94007953e-01,\n",
       "        1.53856739e-01,  2.62417127e-01,  3.61832217e-01,  3.66430586e-01,\n",
       "        2.90523552e-01,  1.61720991e-01,  1.70828113e-01,  4.19573531e-01,\n",
       "        1.54897441e-01,  1.58510028e-01,  3.04088159e-01,  4.27407795e-01,\n",
       "        2.45556184e-01,  1.22576996e-01,  2.97543141e-01,  2.88178276e-01,\n",
       "        2.90523552e-01,  2.34308180e-01,  3.00742650e-01,  3.38467999e-01,\n",
       "        4.92941460e-02,  4.41902366e-01,  2.94007953e-01,  4.02258802e-01,\n",
       "        2.37571523e-01,  1.43875346e-01,  2.12080993e-01,  3.97006261e-01,\n",
       "        1.81552406e-01,  2.10942859e-01,  2.58434920e-01,  1.95187206e-01,\n",
       "        3.54327643e-01,  3.39185210e-01,  2.18174348e-01,  4.13461552e-01,\n",
       "        2.27710872e-01,  2.15721895e-01,  2.90831938e-01,  1.58955265e-01,\n",
       "        4.44214325e-01,  2.82309476e-01,  2.05356178e-01,  3.43565029e-01,\n",
       "        1.58072376e-01,  3.27068781e-01,  9.33828810e-02,  1.76410754e-01,\n",
       "        7.53916018e-02,  3.70495484e-01,  2.05356178e-01,  1.62834523e-01,\n",
       "        1.63288821e-01,  9.67999373e-02,  1.33628496e-01,  3.55661284e-01,\n",
       "        2.05256819e-01,  1.71842233e-01,  1.24409295e-01,  3.15144586e-01,\n",
       "        2.60388503e-01,  1.53481755e-01,  1.68016222e-01,  1.36034076e-01,\n",
       "        1.75401416e-01,  2.09161156e-01,  1.16287301e-01,  2.29700719e-01,\n",
       "        2.07913694e-01,  1.37989604e-01,  2.20194940e-01,  3.38356751e-01,\n",
       "        1.53748748e-01,  2.24336263e-01,  2.21112303e-01,  2.09759302e-01,\n",
       "        1.86605444e-01,  2.05256819e-01,  6.50476313e-02,  1.63183080e-01,\n",
       "        3.71721831e-03,  2.95881588e-01,  2.19546849e-01,  1.58005939e-01,\n",
       "        1.91042068e-01,  1.19393869e-03,  1.74928132e-01,  1.99625845e-01,\n",
       "        1.82332659e-01,  5.01262908e-03,  9.75146072e-10,  3.67226747e-02,\n",
       "        7.25617889e-10,  1.34928607e-04,  7.24299809e-01,  2.34134012e-01,\n",
       "        1.32714762e-02,  8.97992382e-10,  1.39501309e-03,  1.04305142e-01,\n",
       "        3.59450959e-01,  2.01175020e-02,  2.88601813e-01,  1.36653591e-02,\n",
       "        1.26383258e-01,  1.36056063e-01,  5.54059825e-02,  8.28097366e-03,\n",
       "        2.73631116e-01,  1.04699137e-01,  1.19376603e-01,  5.17708932e-02,\n",
       "        1.68348903e-01,  1.05863469e-01,  2.13942973e-01,  1.47133063e-01,\n",
       "        2.28487978e-01,  4.85320060e-02,  3.08608497e-01,  1.04544823e-02,\n",
       "        3.24303235e-01,  2.06316755e-01,  1.85037930e-01,  2.28487978e-01,\n",
       "        4.06656802e-02,  2.09674830e-01,  2.10900897e-01,  2.28487978e-01,\n",
       "        2.01253834e-01,  1.98496396e-01,  1.74655957e-01,  1.80133374e-01,\n",
       "        1.02052942e-01,  1.88129581e-01,  5.65730643e-01,  1.07135602e-01,\n",
       "        1.69660709e-01,  4.07712776e-02,  1.45467518e-02,  1.76601995e-01,\n",
       "        2.33901428e-01,  1.68334974e-01,  7.24299809e-01,  2.18155759e-01,\n",
       "        1.58320385e-01,  1.91049754e-02,  1.94866194e-01,  3.25220295e-01,\n",
       "        3.86530088e-01,  2.89464151e-01,  1.07295874e-01,  2.52041186e-01,\n",
       "        1.20430232e-01,  7.24299809e-01,  1.08632389e-01,  1.00834070e-01,\n",
       "        1.35049913e-01,  2.36948326e-01,  1.64718443e-01,  6.20438256e-02,\n",
       "        8.69301933e-02,  2.48471321e-02,  2.28487978e-01,  4.05986757e-02,\n",
       "        2.76240571e-02,  4.34732924e-01,  1.43959366e-01,  2.24240670e-01,\n",
       "        7.67790864e-02,  1.33070720e-01,  2.02870950e-01,  1.71627792e-01,\n",
       "        1.71303838e-01,  3.45894289e-01,  3.09196388e-01,  1.58000004e-01,\n",
       "        1.93829356e-01,  2.56475810e-01,  3.58924161e-02,  6.95895502e-02,\n",
       "        5.92386429e-01,  3.25102417e-02,  2.45689899e-01,  1.14628878e-01,\n",
       "        1.23240739e-01,  1.48370385e-01,  3.46841316e-01,  1.07010409e-01,\n",
       "        3.65330097e-01,  7.27362591e-03,  1.33969540e-01,  1.64329866e-01,\n",
       "        7.50648439e-02,  4.94390025e-02,  2.53569320e-01,  1.59365532e-01,\n",
       "        2.34605482e-01,  2.62789116e-01,  1.87037276e-01,  2.44393684e-02,\n",
       "        8.88863174e-02,  1.65130591e-01,  8.55411507e-04,  1.73710297e-01,\n",
       "        9.20384899e-02,  1.58607549e-01,  7.83892675e-02,  2.79376460e-02,\n",
       "        1.04784534e-02,  1.67042942e-01,  1.64467423e-02,  1.38708936e-02,\n",
       "        1.86229027e-01,  2.18939688e-01,  3.51544335e-01,  2.72303638e-02,\n",
       "        1.63868942e-01,  1.30874596e-01,  1.16639415e-01,  2.77197792e-01,\n",
       "        1.79718216e-01,  8.57687231e-02,  1.91752563e-01,  3.22906170e-01,\n",
       "        2.30170424e-01,  1.94978249e-01,  6.07471146e-03,  1.40249586e-01,\n",
       "        2.28464789e-02,  6.98303222e-03,  4.31814070e-02,  5.82385014e-02,\n",
       "        2.04764919e-01,  2.08927933e-01,  1.36489410e-01,  7.23053964e-02,\n",
       "        1.37329160e-02,  6.26430052e-03,  1.07356011e-01,  1.47694464e-01,\n",
       "        6.61488136e-02,  2.87497808e-02,  3.47002600e-03,  2.73857468e-01,\n",
       "        1.10088814e-01,  5.48805103e-02,  2.65403168e-03,  1.11546800e-01,\n",
       "        3.64207531e-02,  4.76533229e-02,  5.51272725e-02,  6.75760993e-02,\n",
       "        2.55704856e-02,  1.57808461e-02,  1.64624855e-01,  1.27659982e-02,\n",
       "        9.06554037e-02,  5.17636352e-02,  8.95853170e-02,  1.18838812e-01,\n",
       "        4.01361228e-02,  1.32625169e-03,  8.88138699e-02,  1.21352252e-02,\n",
       "        1.02388663e-02,  1.15639527e-02,  2.88521834e-02,  1.66221758e-01,\n",
       "        6.72446797e-03,  9.65287611e-02,  7.99487631e-03,  9.94924210e-02,\n",
       "        5.86895581e-02,  5.08564102e-03,  6.59983420e-02,  1.07425670e-01,\n",
       "        5.08455526e-03,  7.22914029e-03,  1.30373738e-02,  5.85150985e-02,\n",
       "        1.26928658e-02,  5.32771377e-03,  1.33137673e-02,  1.48126540e-02,\n",
       "        7.88654000e-02,  7.48710312e-03,  3.78886762e-02,  3.37617997e-02,\n",
       "        8.71229684e-02,  4.04135729e-03,  1.17735685e-02,  1.64694967e-03,\n",
       "        2.34557142e-02,  4.31023198e-03,  9.53777434e-03,  1.06545314e-01,\n",
       "        1.94142769e-01,  1.73905180e-02,  1.58538177e-02,  4.84946175e-02,\n",
       "        4.87375912e-02,  3.60660909e-02,  5.36734798e-02, -1.05278346e-09,\n",
       "        8.67354090e-02,  1.60568306e-01,  1.25585791e-01,  1.79973912e-01,\n",
       "        1.54921292e-01,  1.16363311e-01,  1.68174826e-03,  1.98791808e-02,\n",
       "        8.99879622e-02,  9.65584602e-02,  9.42195658e-02,  5.67316266e-02,\n",
       "        1.27594875e-02,  1.50345147e-01,  6.16547616e-02,  2.88154099e-01,\n",
       "        1.30996251e-02,  6.51230598e-02,  5.77023150e-02,  7.63277306e-02,\n",
       "        5.19594324e-02,  7.19708108e-02,  8.12619528e-03,  2.64907487e-01,\n",
       "        5.77772777e-02,  5.74612622e-03,  4.90059454e-03,  6.65778343e-02,\n",
       "        9.54381871e-03,  2.99615352e-01,  1.63321109e-01,  2.24170472e-01,\n",
       "        4.13634374e-03,  1.76960785e-01,  8.47287508e-02,  1.26154479e-02,\n",
       "        1.47709033e-02,  1.67205915e-01,  1.16578020e-02,  8.39634121e-02,\n",
       "        3.58945525e-02,  7.70967985e-02,  1.40024072e-02,  2.99615352e-01,\n",
       "        6.07718435e-02,  4.23366250e-04,  2.14163283e-02,  2.21153337e-02,\n",
       "        1.81264936e-01,  1.21258518e-01,  4.44981499e-03,  2.12370081e-02,\n",
       "        1.04834912e-01,  2.77501284e-02,  1.56271892e-01,  1.19490502e-01,\n",
       "        1.26664428e-01,  3.27796558e-02,  1.64343610e-01,  1.76446313e-01,\n",
       "        1.20320286e-02,  2.08257892e-02,  1.04827486e-01,  7.08417071e-02,\n",
       "        6.68167610e-02,  6.58332504e-02,  9.91236103e-03,  5.60553475e-02,\n",
       "        6.16547616e-02,  5.74530109e-02,  4.94802229e-02,  6.85253761e-02,\n",
       "        1.45488989e-02,  6.82041562e-02,  4.54451354e-02,  4.35082992e-02,\n",
       "        1.19519110e-01,  1.01057752e-01,  5.42256536e-02,  5.17786838e-02,\n",
       "        1.19904056e-02,  5.33798032e-02,  9.09238898e-02,  5.63867514e-02,\n",
       "        7.28265139e-03,  5.61316674e-02,  6.28641368e-03,  1.99086325e-02,\n",
       "        3.55322020e-02,  1.49698058e-01,  1.08714260e-02,  2.78165488e-02,\n",
       "        1.67903829e-03,  2.01493236e-01,  3.55322020e-02,  1.67159507e-02,\n",
       "        1.26564988e-02,  1.40654495e-02,  7.59128790e-02,  5.12736266e-03,\n",
       "        1.31296731e-02,  2.20985538e-01,  1.81973707e-02,  1.94070708e-01,\n",
       "        4.05397947e-03,  1.39517013e-01,  1.39923176e-01,  1.15866556e-02,\n",
       "        1.02863827e-01,  6.62017453e-02,  6.47298912e-02,  6.07482509e-02,\n",
       "        2.10054911e-02,  9.05572646e-02,  4.61507207e-02,  1.70233534e-01,\n",
       "        1.70233534e-01,  7.73530879e-03,  1.82810142e-01,  6.90722015e-02,\n",
       "        5.57198985e-02,  4.72007610e-02,  5.06296034e-02,  2.80498722e-02,\n",
       "        6.63294504e-02,  1.70691379e-02,  1.39423458e-01,  1.06307885e-01,\n",
       "        8.31266006e-02,  1.10944995e-01,  2.44472037e-02,  2.27494004e-02,\n",
       "        7.86497489e-02,  1.38687023e-01,  1.40327397e-01,  1.64325313e-01,\n",
       "        1.64325313e-01,  1.64325313e-01])"
      ]
     },
     "execution_count": 26,
     "metadata": {},
     "output_type": "execute_result"
    }
   ],
   "source": [
    "X_tfidf_reduce.T[0]"
   ]
  },
  {
   "cell_type": "code",
   "execution_count": 28,
   "metadata": {},
   "outputs": [
    {
     "data": {
      "image/png": "[encoded data removed]",
      "text/plain": [
       "<Figure size 432x288 with 1 Axes>"
      ]
     },
     "metadata": {
      "needs_background": "light"
     },
     "output_type": "display_data"
    }
   ],
   "source": [
    "import matplotlib.pyplot as plt\n",
    "plt.scatter(X_tfidf_reduce.T[0], X_tfidf_reduce.T[1], marker='o')\n",
    "plt.show()"
   ]
  },
  {
   "cell_type": "code",
   "execution_count": 30,
   "metadata": {},
   "outputs": [
    {
     "data": {
      "image/png": "[encoded data removed]",
      "text/plain": [
       "<Figure size 432x288 with 1 Axes>"
      ]
     },
     "metadata": {
      "needs_background": "light"
     },
     "output_type": "display_data"
    }
   ],
   "source": [
    "#K-Means Clustering\n",
    "from sklearn.cluster import KMeans\n",
    "import time\n",
    "\n",
    "### Find Best K\n",
    "wcss = []\n",
    "for i in range(1, 11):\n",
    "    kmeans = KMeans(n_clusters=i, init=\"k-means++\", random_state=int(time.time()))\n",
    "    kmeans.fit(X_tfidf)\n",
    "    wcss.append(kmeans.inertia_)\n",
    "##\n",
    "### Draw WCSS for each K\n",
    "import matplotlib.pyplot as plt\n",
    "##\n",
    "plt.plot(range(1, 11), wcss,'o-')\n",
    "plt.title(\"Elbow Method\")\n",
    "plt.xlabel(\"# of Clusters\")\n",
    "plt.ylabel(\"WCSS\")\n",
    "#plt.savefig(\"doc2vec_text8_elbow.png\")\n",
    "plt.show()"
   ]
  },
  {
   "cell_type": "code",
   "execution_count": 34,
   "metadata": {},
   "outputs": [
    {
     "data": {
      "image/png": "[encoded data removed]",
      "text/plain": [
       "<Figure size 432x288 with 1 Axes>"
      ]
     },
     "metadata": {
      "needs_background": "light"
     },
     "output_type": "display_data"
    }
   ],
   "source": [
    "from sklearn.metrics import silhouette_score\n",
    "\n",
    "silhouette = []\n",
    "\n",
    "for i in range(2,11):\n",
    "    kmeans = KMeans(n_clusters=i, init=\"k-means++\", random_state=int(time.time()))\n",
    "    kmeans.fit(X_tfidf)\n",
    "    silhouette.append(silhouette_score(X_tfidf, kmeans.labels_))\n",
    "\n",
    "plt.plot(range(2, 11), silhouette,'o-')\n",
    "plt.title(\"Average Silhouette Method\")\n",
    "plt.xlabel(\"# of Clusters\")\n",
    "plt.ylabel(\"Average Silhouette\")\n",
    "plt.show()"
   ]
  },
  {
   "cell_type": "code",
   "execution_count": 36,
   "metadata": {},
   "outputs": [],
   "source": [
    "#Prediction\n",
    "kmeans = KMeans(n_clusters=2, init=\"k-means++\", random_state=int(time.time()))\n",
    "Y_pred = kmeans.fit_predict(X_tfidf)"
   ]
  },
  {
   "cell_type": "code",
   "execution_count": 45,
   "metadata": {},
   "outputs": [],
   "source": [
    "dataset['pred'] = Y_pred\n",
    "dataset.to_csv(\"retweet_prediction_tf-idf.csv\")"
   ]
  },
  {
   "cell_type": "code",
   "execution_count": 42,
   "metadata": {},
   "outputs": [
    {
     "data": {
      "text/html": [
       "<div>\n",
       "<style scoped>\n",
       "    .dataframe tbody tr th:only-of-type {\n",
       "        vertical-align: middle;\n",
       "    }\n",
       "\n",
       "    .dataframe tbody tr th {\n",
       "        vertical-align: top;\n",
       "    }\n",
       "\n",
       "    .dataframe thead th {\n",
       "        text-align: right;\n",
       "    }\n",
       "</style>\n",
       "<table border=\"1\" class=\"dataframe\">\n",
       "  <thead>\n",
       "    <tr style=\"text-align: right;\">\n",
       "      <th></th>\n",
       "      <th>PC1</th>\n",
       "      <th>PC2</th>\n",
       "      <th>pred</th>\n",
       "    </tr>\n",
       "  </thead>\n",
       "  <tbody>\n",
       "    <tr>\n",
       "      <td>0</td>\n",
       "      <td>0.070553</td>\n",
       "      <td>-0.119187</td>\n",
       "      <td>0</td>\n",
       "    </tr>\n",
       "    <tr>\n",
       "      <td>1</td>\n",
       "      <td>0.064378</td>\n",
       "      <td>-0.127057</td>\n",
       "      <td>0</td>\n",
       "    </tr>\n",
       "    <tr>\n",
       "      <td>2</td>\n",
       "      <td>0.030626</td>\n",
       "      <td>-0.068035</td>\n",
       "      <td>0</td>\n",
       "    </tr>\n",
       "    <tr>\n",
       "      <td>3</td>\n",
       "      <td>0.022527</td>\n",
       "      <td>-0.044540</td>\n",
       "      <td>0</td>\n",
       "    </tr>\n",
       "    <tr>\n",
       "      <td>4</td>\n",
       "      <td>0.113388</td>\n",
       "      <td>0.053790</td>\n",
       "      <td>0</td>\n",
       "    </tr>\n",
       "    <tr>\n",
       "      <td>...</td>\n",
       "      <td>...</td>\n",
       "      <td>...</td>\n",
       "      <td>...</td>\n",
       "    </tr>\n",
       "    <tr>\n",
       "      <td>605</td>\n",
       "      <td>0.138687</td>\n",
       "      <td>-0.197822</td>\n",
       "      <td>0</td>\n",
       "    </tr>\n",
       "    <tr>\n",
       "      <td>606</td>\n",
       "      <td>0.140327</td>\n",
       "      <td>-0.203273</td>\n",
       "      <td>0</td>\n",
       "    </tr>\n",
       "    <tr>\n",
       "      <td>607</td>\n",
       "      <td>0.164325</td>\n",
       "      <td>0.075259</td>\n",
       "      <td>1</td>\n",
       "    </tr>\n",
       "    <tr>\n",
       "      <td>608</td>\n",
       "      <td>0.164325</td>\n",
       "      <td>0.075259</td>\n",
       "      <td>1</td>\n",
       "    </tr>\n",
       "    <tr>\n",
       "      <td>609</td>\n",
       "      <td>0.164325</td>\n",
       "      <td>0.075259</td>\n",
       "      <td>1</td>\n",
       "    </tr>\n",
       "  </tbody>\n",
       "</table>\n",
       "<p>610 rows × 3 columns</p>\n",
       "</div>"
      ],
      "text/plain": [
       "          PC1       PC2  pred\n",
       "0    0.070553 -0.119187     0\n",
       "1    0.064378 -0.127057     0\n",
       "2    0.030626 -0.068035     0\n",
       "3    0.022527 -0.044540     0\n",
       "4    0.113388  0.053790     0\n",
       "..        ...       ...   ...\n",
       "605  0.138687 -0.197822     0\n",
       "606  0.140327 -0.203273     0\n",
       "607  0.164325  0.075259     1\n",
       "608  0.164325  0.075259     1\n",
       "609  0.164325  0.075259     1\n",
       "\n",
       "[610 rows x 3 columns]"
      ]
     },
     "execution_count": 42,
     "metadata": {},
     "output_type": "execute_result"
    }
   ],
   "source": [
    "df = pd.DataFrame(X_tfidf_reduce, columns=['PC1','PC2'])\n",
    "df['pred'] = Y_pred\n",
    "df"
   ]
  },
  {
   "cell_type": "code",
   "execution_count": 43,
   "metadata": {},
   "outputs": [
    {
     "data": {
      "image/png": "[encoded data removed]",
      "text/plain": [
       "<Figure size 402.375x360 with 1 Axes>"
      ]
     },
     "metadata": {
      "needs_background": "light"
     },
     "output_type": "display_data"
    }
   ],
   "source": [
    "import seaborn as sns\n",
    "facet = sns.lmplot(data=df, x='PC1', y='PC2', hue='pred', \n",
    "                   fit_reg=False, legend=True, legend_out=True)"
   ]
  },
  {
   "cell_type": "code",
   "execution_count": null,
   "metadata": {},
   "outputs": [],
   "source": []
  }
 ],
 "metadata": {
  "kernelspec": {
   "display_name": "Python 3",
   "language": "python",
   "name": "python3"
  },
  "language_info": {
   "codemirror_mode": {
    "name": "ipython",
    "version": 3
   },
   "file_extension": ".py",
   "mimetype": "text/x-python",
   "name": "python",
   "nbconvert_exporter": "python",
   "pygments_lexer": "ipython3",
   "version": "3.7.7"
  }
 },
 "nbformat": 4,
 "nbformat_minor": 2
}
