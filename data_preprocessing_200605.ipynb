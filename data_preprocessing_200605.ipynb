{
 "cells": [
  {
   "cell_type": "code",
   "execution_count": 1,
   "metadata": {},
   "outputs": [],
   "source": [
    "import pandas as pd\n",
    "import numpy as np\n",
    "from tqdm import tqdm"
   ]
  },
  {
   "cell_type": "code",
   "execution_count": 2,
   "metadata": {},
   "outputs": [
    {
     "name": "stderr",
     "output_type": "stream",
     "text": [
      "  0%|          | 40/31316 [00:00<01:18, 396.20it/s]"
     ]
    },
    {
     "name": "stdout",
     "output_type": "stream",
     "text": [
      "Before: 61989\n",
      "After:  31316\n"
     ]
    },
    {
     "name": "stderr",
     "output_type": "stream",
     "text": [
      "100%|██████████| 31316/31316 [00:53<00:00, 590.67it/s]\n"
     ]
    }
   ],
   "source": [
    "data = pd.read_csv(\"/home/ricardo/Github/trump_taiwan_tweets_analysis/datasets/original_tweet_text_merged_tab.csv\", sep = \"\\t\")\n",
    "\n",
    "# remove duplicates rows\n",
    "print('Before:', len(data))\n",
    "data = data.drop_duplicates()\n",
    "print('After: ', len(data))\n",
    "\n",
    "# sort df values\n",
    "data.sort_values(by=['Tweet'])\n",
    "\n",
    "# create new data frame by account\n",
    "for i, j in enumerate(tqdm(data.iloc[:, 0])):\n",
    "    tweet_split_list = j.split(\" \")\n",
    "    # check if the tweet is retweeted\n",
    "    if \"RT\" in tweet_split_list:\n",
    "        data.loc[i, 'if_RT'] = 1\n",
    "        RT_index = tweet_split_list.index('RT')\n",
    "        # original text\n",
    "        original_text = \"\"\n",
    "        for a, b in enumerate(tweet_split_list[:RT_index]):\n",
    "            original_text += \" \" + b\n",
    "        data.loc[i, \"original_text\"] = original_text\n",
    "        # Retweeted Text\n",
    "        retweeted_text = \"\"\n",
    "        for a, b in enumerate(tweet_split_list[RT_index:]):\n",
    "            retweeted_text += \" \" + b\n",
    "        data.loc[i, \"retweeted text\"] = retweeted_text\n",
    "    else:\n",
    "        data.loc[i, 'if_RT'] = 0\n",
    "        # original text\n",
    "        original_text = \"\"\n",
    "        for a, b in enumerate(tweet_split_list):\n",
    "            original_text += \" \" + b\n",
    "        data.loc[i, \"original_text\"] = original_text\n",
    "        \n",
    "        \n",
    "data.to_csv(\"/home/ricardo/Desktop/temp.csv\", sep='\\t')"
   ]
  },
  {
   "cell_type": "code",
   "execution_count": null,
   "metadata": {},
   "outputs": [],
   "source": []
  }
 ],
 "metadata": {
  "kernelspec": {
   "display_name": "normal",
   "language": "python",
   "name": "normal"
  },
  "language_info": {
   "codemirror_mode": {
    "name": "ipython",
    "version": 3
   },
   "file_extension": ".py",
   "mimetype": "text/x-python",
   "name": "python",
   "nbconvert_exporter": "python",
   "pygments_lexer": "ipython3",
   "version": "3.7.7"
  }
 },
 "nbformat": 4,
 "nbformat_minor": 4
}
