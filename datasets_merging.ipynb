{
 "cells": [
  {
   "cell_type": "code",
   "execution_count": 1,
   "metadata": {},
   "outputs": [],
   "source": [
    "import pandas as pd\n",
    "import numpy as np"
   ]
  },
  {
   "cell_type": "code",
   "execution_count": 2,
   "metadata": {},
   "outputs": [],
   "source": [
    "data_0 = pd.read_csv('./datasets/trumps-taiwan-call-tweets/dataset.csv', header=None)\n",
    "data_1 = pd.read_csv('./datasets/lovesdata-trump-tweets-5-4-09-12-5-16/trumptweets1205-127.csv')\n",
    "data_2 = pd.read_csv('./datasets/lovesdata-trump-tweets-5-4-09-12-5-16/2017_01_28_Trump_Tweets.csv')\n",
    "data_3 = pd.read_csv('./datasets/lovesdata-trump-tweets-5-4-09-12-5-16/2016_12_05-TrumpTwitterAll.csv')"
   ]
  },
  {
   "cell_type": "code",
   "execution_count": 3,
   "metadata": {},
   "outputs": [
    {
     "name": "stdout",
     "output_type": "stream",
     "text": [
      "Int64Index([0], dtype='int64')\n",
      "Index(['Date', 'Time', 'Tweet', 'Tweetid'], dtype='object')\n",
      "Index(['Date', 'Time', 'Tweet', 'Client', 'Client Simplified'], dtype='object')\n",
      "Index(['Date', 'Time', 'Tweet', 'Client', 'Client Simplified'], dtype='object')\n"
     ]
    }
   ],
   "source": [
    "print(data_0.columns)\n",
    "print(data_1.columns)\n",
    "print(data_2.columns)\n",
    "print(data_3.columns)\n",
    "\n",
    "document_list = [data_1, data_2, data_3]\n",
    "\n",
    "data_merged = pd.DataFrame({\n",
    "    'Tweet':data_0.iloc[:, 0].tolist() + j.loc[:, 'Tweet'].tolist() for i, j in enumerate(document_list)\n",
    "})\n",
    "\n",
    "data_merged.to_csv('./datasets/tweet_text_merged_tab.csv', sep='\\t', encoding='utf8', index=False)"
   ]
  }
 ],
 "metadata": {
  "kernelspec": {
   "display_name": "normal",
   "language": "python",
   "name": "normal"
  },
  "language_info": {
   "codemirror_mode": {
    "name": "ipython",
    "version": 3
   },
   "file_extension": ".py",
   "mimetype": "text/x-python",
   "name": "python",
   "nbconvert_exporter": "python",
   "pygments_lexer": "ipython3",
   "version": "3.7.7"
  }
 },
 "nbformat": 4,
 "nbformat_minor": 4
}
