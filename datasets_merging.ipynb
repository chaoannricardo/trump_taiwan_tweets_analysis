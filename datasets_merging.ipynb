{
 "cells": [
  {
   "cell_type": "code",
   "execution_count": 1,
   "metadata": {},
   "outputs": [],
   "source": [
    "import pandas as pd\n",
    "import numpy as np"
   ]
  },
  {
   "cell_type": "code",
   "execution_count": 2,
   "metadata": {},
   "outputs": [],
   "source": [
    "data_0 = pd.read_csv('./datasets/trumps-taiwan-call-tweets/dataset.csv', header=None)\n",
    "data_1 = pd.read_csv('./datasets/lovesdata-trump-tweets-5-4-09-12-5-16/trumptweets1205-127.csv')\n",
    "data_2 = pd.read_csv('./datasets/lovesdata-trump-tweets-5-4-09-12-5-16/2017_01_28_Trump_Tweets.csv')\n",
    "data_3 = pd.read_csv('./datasets/lovesdata-trump-tweets-5-4-09-12-5-16/2016_12_05-TrumpTwitterAll.csv')"
   ]
  },
  {
   "cell_type": "code",
   "execution_count": 3,
   "metadata": {},
   "outputs": [
    {
     "name": "stdout",
     "output_type": "stream",
     "text": [
      "1229\n",
      "297\n",
      "30385\n",
      "30078\n",
      "61989\n"
     ]
    }
   ],
   "source": [
    "print(len(data_0))\n",
    "print(len(data_1))\n",
    "print(len(data_2))\n",
    "print(len(data_3))\n",
    "\n",
    "document_list = [data_1, data_2, data_3]\n",
    "data_list = data_0.iloc[:, 0].tolist()\n",
    "\n",
    "for i, j in enumerate(document_list):\n",
    "    data_list += j.loc[:, 'Tweet'].tolist()\n",
    "\n",
    "data_merged = pd.DataFrame({\n",
    "    'Tweet':data_list\n",
    "})\n",
    "\n",
    "print(len(data_merged))\n",
    "\n",
    "data_merged.to_csv('./datasets/tweet_text_merged_tab.csv', sep='\\t', \n",
    "                   encoding='utf8', index=False)"
   ]
  }
 ],
 "metadata": {
  "kernelspec": {
   "display_name": "normal",
   "language": "python",
   "name": "normal"
  },
  "language_info": {
   "codemirror_mode": {
    "name": "ipython",
    "version": 3
   },
   "file_extension": ".py",
   "mimetype": "text/x-python",
   "name": "python",
   "nbconvert_exporter": "python",
   "pygments_lexer": "ipython3",
   "version": "3.7.7"
  }
 },
 "nbformat": 4,
 "nbformat_minor": 4
}
