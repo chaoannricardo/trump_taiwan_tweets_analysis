{
 "cells": [
  {
   "cell_type": "code",
   "execution_count": 1,
   "metadata": {},
   "outputs": [],
   "source": [
    "from sklearn.decomposition import TruncatedSVD\n",
    "import numpy as np\n",
    "import pandas as pd"
   ]
  },
  {
   "cell_type": "code",
   "execution_count": 3,
   "metadata": {},
   "outputs": [
    {
     "name": "stdout",
     "output_type": "stream",
     "text": [
      "Index(['Unnamed: 0', 'is_RT', 'retweet_from', 'whole_tweet_text',\n",
      "       'original_text', 'retweet_text', 'stopwords_removed_retweet_text',\n",
      "       'Unnamed: 6', 'Unnamed: 7', 'feature_0', 'feature_1', 'feature_2',\n",
      "       'feature_3', 'feature_4', 'feature_5', 'feature_6', 'feature_7',\n",
      "       'feature_8', 'feature_9', 'feature_10', 'feature_11', 'feature_12',\n",
      "       'feature_13', 'feature_14', 'feature_15', 'feature_16', 'feature_17',\n",
      "       'feature_18', 'feature_19', 'feature_20', 'feature_21', 'feature_22',\n",
      "       'feature_23', 'feature_24', 'feature_25', 'feature_26', 'feature_27',\n",
      "       'feature_28', 'feature_29', 'feature_30', 'feature_31', 'feature_32',\n",
      "       'feature_33', 'feature_34', 'feature_35', 'feature_36', 'feature_37',\n",
      "       'feature_38', 'feature_39', 'feature_40', 'feature_41', 'feature_42',\n",
      "       'feature_43', 'feature_44', 'feature_45', 'feature_46', 'feature_47',\n",
      "       'feature_48', 'feature_49'],\n",
      "      dtype='object')\n",
      "(610, 50)\n",
      "Index(['feature_0', 'feature_1', 'feature_2', 'feature_3', 'feature_4',\n",
      "       'feature_5', 'feature_6', 'feature_7', 'feature_8', 'feature_9',\n",
      "       'feature_10', 'feature_11', 'feature_12', 'feature_13', 'feature_14',\n",
      "       'feature_15', 'feature_16', 'feature_17', 'feature_18', 'feature_19',\n",
      "       'feature_20', 'feature_21', 'feature_22', 'feature_23', 'feature_24',\n",
      "       'feature_25', 'feature_26', 'feature_27', 'feature_28', 'feature_29',\n",
      "       'feature_30', 'feature_31', 'feature_32', 'feature_33', 'feature_34',\n",
      "       'feature_35', 'feature_36', 'feature_37', 'feature_38', 'feature_39',\n",
      "       'feature_40', 'feature_41', 'feature_42', 'feature_43', 'feature_44',\n",
      "       'feature_45', 'feature_46', 'feature_47', 'feature_48', 'feature_49'],\n",
      "      dtype='object')\n"
     ]
    }
   ],
   "source": [
    "data = pd.read_csv('./datasets/19_retweet_text_doc2vec_new_text8.csv', sep='=', encoding='utf8')\n",
    "print(data.columns)\n",
    "\n",
    "data_selected = data.loc[:, 'feature_0':]\n",
    "print(data_selected.shape)\n",
    "print(data_selected.columns)"
   ]
  },
  {
   "cell_type": "markdown",
   "metadata": {},
   "source": [
    "# TruncatedSVD"
   ]
  },
  {
   "cell_type": "code",
   "execution_count": null,
   "metadata": {},
   "outputs": [],
   "source": [
    "# perform TruncatedSVD\n",
    "svd = TruncatedSVD(n_components=500, n_iter=10, random_state=100)\n",
    "svd.fit(data_selected)\n",
    "\n",
    "print(svd.explained_variance_ratio_.sum())\n",
    "print(svd.explained_variance_ratio_)\n",
    "print(svd.singular_values_)\n",
    "\n",
    "# fit transform the data\n",
    "data_svd = svd.fit_transform(data_selected)"
   ]
  },
  {
   "cell_type": "markdown",
   "metadata": {},
   "source": [
    "# DBSCAN"
   ]
  },
  {
   "cell_type": "code",
   "execution_count": 4,
   "metadata": {},
   "outputs": [],
   "source": [
    "from sklearn.cluster import DBSCAN"
   ]
  },
  {
   "cell_type": "code",
   "execution_count": 9,
   "metadata": {},
   "outputs": [
    {
     "name": "stdout",
     "output_type": "stream",
     "text": [
      "[-1 -1 -1 -1 -1 -1 -1 -1 -1 -1 -1 -1 -1 -1 -1 -1 -1 -1 -1 -1 -1 -1 -1 -1\n",
      " -1 -1 -1 -1 -1 -1 -1 -1 -1 -1 -1 -1 -1 -1 -1 -1 -1  0 -1 -1 -1 -1 -1 -1\n",
      " -1 -1 -1 -1 -1 -1 -1 -1 -1 -1 -1 -1 -1 -1 -1 -1 -1 -1 -1 -1 -1 -1 -1 -1\n",
      " -1 -1 -1 -1 -1 -1 -1 -1 -1 -1 -1 -1 -1 -1 -1 -1 -1 -1 -1 -1 -1 -1 -1 -1\n",
      " -1 -1 -1 -1 -1 -1 -1 -1 -1 -1 -1 -1 -1 -1 -1 -1  1  1  2  2  2 -1 -1  3\n",
      " -1 -1 -1 -1 -1 -1 -1 -1  3  3  3 -1 -1 -1 -1 -1 -1 -1 -1 -1 -1 -1 -1 -1\n",
      " -1 -1 -1 -1 -1 -1 -1 -1 -1 -1 -1  4  5 -1  5 -1 -1 -1 -1 -1 -1 -1 -1  6\n",
      " -1 -1 -1 -1 -1 -1 -1 -1 -1 -1 -1 -1 -1 -1 -1 -1 -1 -1 -1 -1 -1 -1  6 -1\n",
      " -1 -1 -1 -1 -1 -1 -1 -1 -1 -1 -1 -1 -1 -1 -1 -1 -1 -1  7 -1 -1 -1 -1 -1\n",
      " -1 -1  7 -1 -1 -1 -1 -1  8 -1 -1 -1 -1 -1 -1 -1 -1 -1 -1 -1 -1 -1 -1 -1\n",
      " -1 -1 -1 -1 -1  8  9 -1 -1 -1 -1 -1 -1 -1 -1 -1 -1 -1  9 -1  9 -1  4 -1\n",
      " -1 -1 -1 -1 -1 -1 -1 -1 -1 -1  9 -1 -1 -1 -1 -1 -1 -1 -1 -1 10 -1 -1 -1\n",
      " -1 -1 -1 -1 -1 -1 -1 10 -1 -1 -1 -1 -1 -1 -1 -1 -1 -1 -1 -1 -1 -1  4 -1\n",
      " -1 -1 -1 -1 -1 -1 -1 -1 -1 -1 -1 -1 -1 -1 -1 -1 -1 -1 10 -1 -1 -1 -1 -1\n",
      " -1 -1 -1 -1 -1 -1 -1 -1 -1 -1 -1 -1 -1 -1 -1 -1 -1 -1 -1 -1 -1 -1 -1 -1\n",
      " -1 -1 -1 -1 -1 -1 -1 -1 -1 -1 -1 -1 -1 -1 -1 -1 -1 -1 -1 -1 -1 -1 -1 -1\n",
      " -1 -1 -1 -1 -1 -1 -1 -1 -1 -1 -1 -1 -1 -1 -1 -1 -1 -1 -1 -1 -1 -1 -1 -1\n",
      " -1 -1 -1 -1 -1 -1 -1 -1 -1 -1 -1 -1 -1 -1 -1 -1 -1 -1 -1 -1 -1 -1 -1 -1\n",
      " -1 -1 -1 -1 -1 -1 -1 -1 -1 -1 -1 -1 -1 -1 -1 -1 11  0 -1 -1 -1 -1 -1 -1\n",
      " -1 -1 -1 -1 -1 -1 -1 -1 -1 -1 -1 -1 -1 -1 -1 -1 -1 -1 -1 -1 -1 -1 -1 -1\n",
      "  9 -1 -1 -1 -1 -1 -1 -1 -1 -1 -1 -1 -1 -1 -1 -1 -1 -1 -1 -1 -1 12 -1 -1\n",
      " -1 -1 -1 -1 -1 -1 -1 -1 -1 -1 -1 12 -1 -1 -1 11 -1 -1 -1 -1 -1 -1 -1 -1\n",
      " -1 -1 -1 -1 -1 -1 -1 -1 -1 -1 -1 -1 -1 -1 -1 -1 -1 -1 -1 -1 -1 -1 -1 -1\n",
      " -1 -1 -1 -1 -1 -1 -1 -1 13 -1 -1 -1 -1 -1 13 -1 -1 -1 -1 -1 -1 -1 -1 -1\n",
      " -1 -1 -1 -1 -1 -1 -1 -1 -1 -1 -1 14 14 -1 -1 -1 -1 -1 -1 -1 -1 -1 -1 -1\n",
      " -1 -1 -1 -1 -1 -1 -1 15 15 15]\n",
      "DBSCAN(algorithm='ball_tree', eps=1, leaf_size=30, metric='euclidean',\n",
      "       metric_params=None, min_samples=2, n_jobs=None, p=None)\n",
      "{0, 1, 2, 3, 4, 5, 6, 7, 8, 9, 10, 11, 12, 13, 14, 15, -1}\n"
     ]
    }
   ],
   "source": [
    "data_svd = data_selected.to_numpy()\n",
    "\n",
    "clustering = DBSCAN(eps=1, min_samples=2, algorithm='ball_tree').fit(data_svd)\n",
    "print(clustering.labels_)\n",
    "print(clustering)\n",
    "print(set(clustering.labels_.tolist()))"
   ]
  },
  {
   "cell_type": "markdown",
   "metadata": {},
   "source": [
    "# Graph out result"
   ]
  },
  {
   "cell_type": "code",
   "execution_count": 10,
   "metadata": {},
   "outputs": [],
   "source": [
    "import numpy as np\n",
    "import pandas as pd\n",
    "import seaborn as sns\n",
    "from sklearn.decomposition import PCA"
   ]
  },
  {
   "cell_type": "code",
   "execution_count": 11,
   "metadata": {},
   "outputs": [
    {
     "name": "stdout",
     "output_type": "stream",
     "text": [
      "0.1549872272960346\n",
      "[0.08072571 0.07426152]\n",
      "[92.87463169 27.73185731]\n",
      "[[ 3.56485587  1.16711054]\n",
      " [ 2.98089435 -0.66949334]\n",
      " [ 4.90763066  0.95407366]\n",
      " [ 3.24291036 -0.71334036]\n",
      " [ 6.09992828 -1.23386623]\n",
      " [ 1.9222249   1.07153595]\n",
      " [ 2.10582579  1.86702761]\n",
      " [ 6.19273743  1.07951287]\n",
      " [ 5.1673684  -0.47883986]\n",
      " [ 4.18455049  0.68281907]]\n"
     ]
    }
   ],
   "source": [
    "# compress the data using tdidf vector\n",
    "\n",
    "# perform TruncatedSVD\n",
    "svd = TruncatedSVD(n_components=2, n_iter=10, random_state=100)\n",
    "svd.fit(data_selected)\n",
    "\n",
    "print(svd.explained_variance_ratio_.sum())\n",
    "print(svd.explained_variance_ratio_)\n",
    "print(svd.singular_values_)\n",
    "\n",
    "# fit transform the data\n",
    "data_graph = svd.fit_transform(data_selected)\n",
    "\n",
    "print(data_graph[:10])"
   ]
  },
  {
   "cell_type": "code",
   "execution_count": 12,
   "metadata": {},
   "outputs": [
    {
     "name": "stdout",
     "output_type": "stream",
     "text": [
      "        PC1       PC2  Pred\n",
      "0  3.564856  1.167111    -1\n",
      "1  2.980894 -0.669493    -1\n",
      "2  4.907631  0.954074    -1\n",
      "3  3.242910 -0.713340    -1\n",
      "4  6.099928 -1.233866    -1\n"
     ]
    }
   ],
   "source": [
    "data_pred = pd.DataFrame(data=data_graph,\n",
    "                        columns=['PC1', 'PC2'])\n",
    "\n",
    "data_pred.loc[:, 'Pred'] = clustering.labels_\n",
    "\n",
    "print(data_pred.head())"
   ]
  },
  {
   "cell_type": "code",
   "execution_count": 13,
   "metadata": {},
   "outputs": [
    {
     "data": {
      "image/png": "[encoded data removed]",
      "text/plain": [
       "<Figure size 408.75x360 with 1 Axes>"
      ]
     },
     "metadata": {
      "needs_background": "light"
     },
     "output_type": "display_data"
    }
   ],
   "source": [
    "# graph out the result\n",
    "\n",
    "facet = sns.lmplot(data=data_pred, x='PC1', y='PC2', hue='Pred',\n",
    "                  fit_reg=False, legend=True, legend_out=True)"
   ]
  },
  {
   "cell_type": "markdown",
   "metadata": {},
   "source": [
    "# Concat the data back to original dataset"
   ]
  },
  {
   "cell_type": "code",
   "execution_count": 16,
   "metadata": {},
   "outputs": [
    {
     "name": "stdout",
     "output_type": "stream",
     "text": [
      "(610,)\n"
     ]
    }
   ],
   "source": [
    "output = pd.concat([data, data_pred], axis=1)\n",
    "output = output.loc[:, 'Pred']\n",
    "\n",
    "print(output.shape)\n",
    "\n",
    "output.to_csv(\"./predictions/retweet_DBSCAN_predictions_doc2vecText8.csv\", sep='\\t',\n",
    "             encoding='utf8', index=True)"
   ]
  }
 ],
 "metadata": {
  "kernelspec": {
   "display_name": "normal",
   "language": "python",
   "name": "normal"
  },
  "language_info": {
   "codemirror_mode": {
    "name": "ipython",
    "version": 3
   },
   "file_extension": ".py",
   "mimetype": "text/x-python",
   "name": "python",
   "nbconvert_exporter": "python",
   "pygments_lexer": "ipython3",
   "version": "3.7.7"
  }
 },
 "nbformat": 4,
 "nbformat_minor": 4
}
