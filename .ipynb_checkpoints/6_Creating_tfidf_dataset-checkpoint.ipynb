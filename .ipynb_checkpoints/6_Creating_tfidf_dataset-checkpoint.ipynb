{
 "cells": [
  {
   "cell_type": "markdown",
   "metadata": {},
   "source": [
    "# Create tfidf Vector Dataset"
   ]
  },
  {
   "cell_type": "code",
   "execution_count": null,
   "metadata": {},
   "outputs": [],
   "source": [
    "from sklearn.feature_extraction.text import TfidfVectorizer\n",
    "import numpy as np\n",
    "import pandas as pd\n",
    "import string"
   ]
  },
  {
   "cell_type": "code",
   "execution_count": null,
   "metadata": {},
   "outputs": [],
   "source": [
    "# data = pd.read_csv(\"./datasets/7_retweet_text_only_stopwords_removed.csv\", \n",
    "#                   sep='\\t')\n",
    "data = pd.read_csv(\"./datasets/8_original_text_only_stopwords_removed.csv\", \n",
    "                  sep='\\t')"
   ]
  },
  {
   "cell_type": "code",
   "execution_count": null,
   "metadata": {},
   "outputs": [],
   "source": [
    "# translation table\n",
    "intab = \"!@#$\\\"\\':\\r\\n\"\n",
    "outtab = \"\"\n",
    "for i in range(len(intab)):\n",
    "    outtab += \"@\"\n",
    "trantab = str.maketrans(intab, outtab)\n",
    "\n",
    "# print(data.head())\n",
    "print(data.columns)\n",
    "# text_list = data.loc[:,  'stopwords_removed_retweet_text'].tolist()\n",
    "text_list = data.loc[:,  'stopwords_removed_original_text'].tolist()\n",
    "\n",
    "for i, j in enumerate(text_list):\n",
    "    text_list[i] =  str(j).translate(trantab).replace(\"@\", \"\")\n",
    "    \n",
    "print(text_list[:10])"
   ]
  },
  {
   "cell_type": "code",
   "execution_count": null,
   "metadata": {},
   "outputs": [],
   "source": [
    "# create tfidf vector\n",
    "vectorizer = TfidfVectorizer(stop_words='english')\n",
    "\n",
    "tfidf_vector = vectorizer.fit_transform(text_list)"
   ]
  },
  {
   "cell_type": "code",
   "execution_count": null,
   "metadata": {},
   "outputs": [],
   "source": [
    "print(tfidf_vector.shape)\n",
    "\n",
    "tfidf_vectorize_data = pd.DataFrame(\n",
    "    data = tfidf_vector.toarray(),\n",
    "    columns = ['feature_' + str(i) for i in range(tfidf_vector.shape[1])]\n",
    ")\n",
    "\n",
    "print(tfidf_vectorize_data.shape)"
   ]
  },
  {
   "cell_type": "code",
   "execution_count": null,
   "metadata": {},
   "outputs": [],
   "source": [
    "# concat original dataset\n",
    "data = pd.concat([data, tfidf_vectorize_data], axis=1)\n",
    "\n",
    "print(data.columns)\n",
    "print(data.shape)\n",
    "\n",
    "# data.to_csv(\"./datasets/15_retweet_tfidf_vectorized.csv\", sep='\\t', encoding='utf8', index=True)\n",
    "data.to_csv(\"./datasets/16_original_tfidf_vectorized.csv\", sep='\\t', encoding='utf8', index=True)"
   ]
  }
 ],
 "metadata": {
  "kernelspec": {
   "display_name": "normal",
   "language": "python",
   "name": "normal"
  },
  "language_info": {
   "codemirror_mode": {
    "name": "ipython",
    "version": 3
   },
   "file_extension": ".py",
   "mimetype": "text/x-python",
   "name": "python",
   "nbconvert_exporter": "python",
   "pygments_lexer": "ipython3",
   "version": "3.7.7"
  }
 },
 "nbformat": 4,
 "nbformat_minor": 4
}
