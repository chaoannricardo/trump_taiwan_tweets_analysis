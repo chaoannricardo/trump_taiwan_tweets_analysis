{
 "cells": [
  {
   "cell_type": "code",
   "execution_count": 41,
   "metadata": {},
   "outputs": [],
   "source": [
    "import gensim\n",
    "import gensim.downloader as api\n",
    "import numpy as np\n",
    "import os\n",
    "import pandas as pd\n",
    "from gensim import corpora\n",
    "from gensim.models.word2vec import Word2Vec\n",
    "from multiprocessing import cpu_count\n",
    "from pprint import pprint"
   ]
  },
  {
   "cell_type": "code",
   "execution_count": 30,
   "metadata": {},
   "outputs": [
    {
     "name": "stdout",
     "output_type": "stream",
     "text": [
      "61671\n",
      "61390\n",
      "30434\n"
     ]
    }
   ],
   "source": [
    "# data preparation\n",
    "# revise the data to make it split by space instead of camma\n",
    "file = open(\"./datasets/tweet_stopwords_removed.csv\", mode='r')\n",
    "new_file = open(\"./datasets/tweet_stopwords_removed_space_splitted.csv\", mode='w')\n",
    "\n",
    "for line in file:\n",
    "    line_list = line.split(\",\")\n",
    "    for list_index, list_item in enumerate(line_list):\n",
    "        if list_index == 0:\n",
    "            pass\n",
    "        else:\n",
    "            new_file.writelines(list_item + \" \")\n",
    "# close the file\n",
    "file.close()\n",
    "new_file.close()\n",
    "\n",
    "# remove rows that length is less than 3\n",
    "tweet_data = pd.read_csv(\"./datasets/tweet_stopwords_removed_space_splitted.csv\")\n",
    "drop_index_list = []\n",
    "for i, j in enumerate(tweet_data.iloc[:, 0]):\n",
    "    line_splitlist = j.split(\" \")\n",
    "    if len(line_splitlist) <= 3:\n",
    "        drop_index_list.append(i)\n",
    "        \n",
    "print(len(tweet_data))\n",
    "tweet_data = tweet_data.drop(drop_index_list)\n",
    "\n",
    "# remove duplicate rows\n",
    "print(len(tweet_data))\n",
    "tweet_data = tweet_data.drop_duplicates()\n",
    "\n",
    "print(len(tweet_data))\n",
    "\n",
    "# save as a new csv file\n",
    "tweet_data.to_csv('./datasets/tweet_stopwords_duplicates_short_removed_space_splitted.csv',\n",
    "                 index=None)"
   ]
  },
  {
   "cell_type": "code",
   "execution_count": 35,
   "metadata": {},
   "outputs": [
    {
     "name": "stdout",
     "output_type": "stream",
     "text": [
      "Dictionary(42524 unique tokens: ['Castro', 'Communist', 'Obama', 'The', 'Trump']...)\n"
     ]
    }
   ],
   "source": [
    "# create copora dictionary\n",
    "\n",
    "tweet_data = pd.read_csv('./datasets/tweet_stopwords_duplicates_short_removed_space_splitted.csv')\n",
    "\n",
    "data_list = tweet_data.iloc[:, 0].tolist()\n",
    "\n",
    "# tokenize data into words\n",
    "texts = [[text for text in tweet.split()] for tweet in data_list]\n",
    "\n",
    "# create dictionary by copora\n",
    "dictionary = corpora.Dictionary(texts)"
   ]
  },
  {
   "cell_type": "code",
   "execution_count": null,
   "metadata": {},
   "outputs": [],
   "source": [
    "# train word2vec model by genism\n",
    "dataset = api.load('text8')\n",
    "data = [d for d in dataset]\n",
    "\n",
    "# train word2vec model. Default result vector size = 100\n",
    "model = Word2Vec(data, min_count=0, workers=cpu_count())\n",
    "\n",
    "model.save('word2vec_original_model')"
   ]
  },
  {
   "cell_type": "code",
   "execution_count": null,
   "metadata": {},
   "outputs": [],
   "source": [
    "# update word2vec with ourt dataset\n",
    "model = Word2Vec.load('word2vec_original_model')\n",
    "\n",
    "model.build()"
   ]
  }
 ],
 "metadata": {
  "kernelspec": {
   "display_name": "normal",
   "language": "python",
   "name": "normal"
  },
  "language_info": {
   "codemirror_mode": {
    "name": "ipython",
    "version": 3
   },
   "file_extension": ".py",
   "mimetype": "text/x-python",
   "name": "python",
   "nbconvert_exporter": "python",
   "pygments_lexer": "ipython3",
   "version": "3.7.7"
  }
 },
 "nbformat": 4,
 "nbformat_minor": 4
}
