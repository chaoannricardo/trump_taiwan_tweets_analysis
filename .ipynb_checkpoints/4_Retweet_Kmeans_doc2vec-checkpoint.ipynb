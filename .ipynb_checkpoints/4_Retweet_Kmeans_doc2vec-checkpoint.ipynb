{
 "cells": [
  {
   "cell_type": "markdown",
   "metadata": {},
   "source": [
    "# Retweet Data Analysis (vectorized by doc2vec)"
   ]
  },
  {
   "cell_type": "code",
   "execution_count": 2,
   "metadata": {},
   "outputs": [],
   "source": [
    "import numpy as np\n",
    "import pandas as pd\n",
    "\n",
    "# # Load Dataset\n",
    "# dataset = pd.read_csv(\"retweet_data.csv\")[:610]\n",
    "\n",
    "# # Decomposition\n",
    "# X = dataset.iloc[:,6:].values"
   ]
  },
  {
   "cell_type": "code",
   "execution_count": 5,
   "metadata": {},
   "outputs": [
    {
     "data": {
      "text/html": [
       "<div>\n",
       "<style scoped>\n",
       "    .dataframe tbody tr th:only-of-type {\n",
       "        vertical-align: middle;\n",
       "    }\n",
       "\n",
       "    .dataframe tbody tr th {\n",
       "        vertical-align: top;\n",
       "    }\n",
       "\n",
       "    .dataframe thead th {\n",
       "        text-align: right;\n",
       "    }\n",
       "</style>\n",
       "<table border=\"1\" class=\"dataframe\">\n",
       "  <thead>\n",
       "    <tr style=\"text-align: right;\">\n",
       "      <th></th>\n",
       "      <th>Unnamed: 0</th>\n",
       "      <th>is_RT</th>\n",
       "      <th>retweet_from</th>\n",
       "      <th>whole_tweet_text</th>\n",
       "      <th>original_text</th>\n",
       "      <th>retweet_text</th>\n",
       "      <th>stopwords_removed_retweet_text</th>\n",
       "      <th>Unnamed: 6</th>\n",
       "      <th>Unnamed: 7</th>\n",
       "      <th>feature_0</th>\n",
       "      <th>...</th>\n",
       "      <th>feature_40</th>\n",
       "      <th>feature_41</th>\n",
       "      <th>feature_42</th>\n",
       "      <th>feature_43</th>\n",
       "      <th>feature_44</th>\n",
       "      <th>feature_45</th>\n",
       "      <th>feature_46</th>\n",
       "      <th>feature_47</th>\n",
       "      <th>feature_48</th>\n",
       "      <th>feature_49</th>\n",
       "    </tr>\n",
       "  </thead>\n",
       "  <tbody>\n",
       "    <tr>\n",
       "      <th>0</th>\n",
       "      <td>0</td>\n",
       "      <td>1</td>\n",
       "      <td>DanScavino</td>\n",
       "      <td>RT @DanScavino: Join #PEOTUS Trump &amp; #VPEOTUS...</td>\n",
       "      <td>NaN</td>\n",
       "      <td>Join #PEOTUS Trump &amp; #VPEOTUS Pence live in W...</td>\n",
       "      <td>NaN</td>\n",
       "      <td>NaN</td>\n",
       "      <td>NaN</td>\n",
       "      <td>1.416719</td>\n",
       "      <td>...</td>\n",
       "      <td>1.270145</td>\n",
       "      <td>-1.330010</td>\n",
       "      <td>1.276360</td>\n",
       "      <td>0.928370</td>\n",
       "      <td>0.528213</td>\n",
       "      <td>0.860074</td>\n",
       "      <td>0.108911</td>\n",
       "      <td>0.067539</td>\n",
       "      <td>-0.148876</td>\n",
       "      <td>-1.377731</td>\n",
       "    </tr>\n",
       "    <tr>\n",
       "      <th>1</th>\n",
       "      <td>1</td>\n",
       "      <td>1</td>\n",
       "      <td>DanScavino</td>\n",
       "      <td>RT @DanScavino: On behalf of our next #POTUS ...</td>\n",
       "      <td>NaN</td>\n",
       "      <td>On behalf of our next #POTUS &amp; @TeamTrump- #H...</td>\n",
       "      <td>NaN</td>\n",
       "      <td>NaN</td>\n",
       "      <td>NaN</td>\n",
       "      <td>0.072117</td>\n",
       "      <td>...</td>\n",
       "      <td>0.179133</td>\n",
       "      <td>-0.247641</td>\n",
       "      <td>0.580247</td>\n",
       "      <td>-0.117272</td>\n",
       "      <td>0.092041</td>\n",
       "      <td>0.357493</td>\n",
       "      <td>0.704640</td>\n",
       "      <td>0.129779</td>\n",
       "      <td>-0.569477</td>\n",
       "      <td>0.056632</td>\n",
       "    </tr>\n",
       "    <tr>\n",
       "      <th>2</th>\n",
       "      <td>2</td>\n",
       "      <td>1</td>\n",
       "      <td>EricTrump</td>\n",
       "      <td>RT @EricTrump: 2016 was such an incredible ye...</td>\n",
       "      <td>NaN</td>\n",
       "      <td>2016 was such an incredible year for our enti...</td>\n",
       "      <td>NaN</td>\n",
       "      <td>NaN</td>\n",
       "      <td>NaN</td>\n",
       "      <td>0.370056</td>\n",
       "      <td>...</td>\n",
       "      <td>-0.193066</td>\n",
       "      <td>0.757259</td>\n",
       "      <td>0.355108</td>\n",
       "      <td>0.166682</td>\n",
       "      <td>0.266286</td>\n",
       "      <td>0.520754</td>\n",
       "      <td>0.080664</td>\n",
       "      <td>0.229643</td>\n",
       "      <td>-2.253107</td>\n",
       "      <td>0.789609</td>\n",
       "    </tr>\n",
       "    <tr>\n",
       "      <th>3</th>\n",
       "      <td>3</td>\n",
       "      <td>1</td>\n",
       "      <td>AdrianaCohen16</td>\n",
       "      <td>RT @AdrianaCohen16: Carly Fiorina no lifeboat ...</td>\n",
       "      <td>NaN</td>\n",
       "      <td>Carly Fiorina no lifeboat for a fast-sinking ...</td>\n",
       "      <td>NaN</td>\n",
       "      <td>NaN</td>\n",
       "      <td>NaN</td>\n",
       "      <td>-0.133497</td>\n",
       "      <td>...</td>\n",
       "      <td>0.451396</td>\n",
       "      <td>-0.898544</td>\n",
       "      <td>1.703615</td>\n",
       "      <td>-0.004035</td>\n",
       "      <td>1.023078</td>\n",
       "      <td>-0.340867</td>\n",
       "      <td>-0.360184</td>\n",
       "      <td>0.195721</td>\n",
       "      <td>-0.223432</td>\n",
       "      <td>0.307832</td>\n",
       "    </tr>\n",
       "    <tr>\n",
       "      <th>4</th>\n",
       "      <td>4</td>\n",
       "      <td>1</td>\n",
       "      <td>AnnCoulter</td>\n",
       "      <td>RT @AnnCoulter: Anyone who plans to talk about...</td>\n",
       "      <td>NaN</td>\n",
       "      <td>Anyone who plans to talk about Trump ever aga...</td>\n",
       "      <td>NaN</td>\n",
       "      <td>NaN</td>\n",
       "      <td>NaN</td>\n",
       "      <td>1.187866</td>\n",
       "      <td>...</td>\n",
       "      <td>0.180841</td>\n",
       "      <td>-0.576678</td>\n",
       "      <td>1.939601</td>\n",
       "      <td>0.736656</td>\n",
       "      <td>0.527605</td>\n",
       "      <td>-0.155179</td>\n",
       "      <td>0.233898</td>\n",
       "      <td>-0.505495</td>\n",
       "      <td>-0.688042</td>\n",
       "      <td>0.284192</td>\n",
       "    </tr>\n",
       "  </tbody>\n",
       "</table>\n",
       "<p>5 rows × 59 columns</p>\n",
       "</div>"
      ],
      "text/plain": [
       "   Unnamed: 0  is_RT    retweet_from  \\\n",
       "0           0      1      DanScavino   \n",
       "1           1      1      DanScavino   \n",
       "2           2      1       EricTrump   \n",
       "3           3      1  AdrianaCohen16   \n",
       "4           4      1      AnnCoulter   \n",
       "\n",
       "                                    whole_tweet_text original_text  \\\n",
       "0   RT @DanScavino: Join #PEOTUS Trump & #VPEOTUS...           NaN   \n",
       "1   RT @DanScavino: On behalf of our next #POTUS ...           NaN   \n",
       "2   RT @EricTrump: 2016 was such an incredible ye...           NaN   \n",
       "3  RT @AdrianaCohen16: Carly Fiorina no lifeboat ...           NaN   \n",
       "4  RT @AnnCoulter: Anyone who plans to talk about...           NaN   \n",
       "\n",
       "                                        retweet_text  \\\n",
       "0   Join #PEOTUS Trump & #VPEOTUS Pence live in W...   \n",
       "1   On behalf of our next #POTUS & @TeamTrump- #H...   \n",
       "2   2016 was such an incredible year for our enti...   \n",
       "3   Carly Fiorina no lifeboat for a fast-sinking ...   \n",
       "4   Anyone who plans to talk about Trump ever aga...   \n",
       "\n",
       "  stopwords_removed_retweet_text  Unnamed: 6  Unnamed: 7  feature_0  ...  \\\n",
       "0                            NaN         NaN         NaN   1.416719  ...   \n",
       "1                            NaN         NaN         NaN   0.072117  ...   \n",
       "2                            NaN         NaN         NaN   0.370056  ...   \n",
       "3                            NaN         NaN         NaN  -0.133497  ...   \n",
       "4                            NaN         NaN         NaN   1.187866  ...   \n",
       "\n",
       "   feature_40  feature_41  feature_42  feature_43  feature_44  feature_45  \\\n",
       "0    1.270145   -1.330010    1.276360    0.928370    0.528213    0.860074   \n",
       "1    0.179133   -0.247641    0.580247   -0.117272    0.092041    0.357493   \n",
       "2   -0.193066    0.757259    0.355108    0.166682    0.266286    0.520754   \n",
       "3    0.451396   -0.898544    1.703615   -0.004035    1.023078   -0.340867   \n",
       "4    0.180841   -0.576678    1.939601    0.736656    0.527605   -0.155179   \n",
       "\n",
       "   feature_46  feature_47  feature_48  feature_49  \n",
       "0    0.108911    0.067539   -0.148876   -1.377731  \n",
       "1    0.704640    0.129779   -0.569477    0.056632  \n",
       "2    0.080664    0.229643   -2.253107    0.789609  \n",
       "3   -0.360184    0.195721   -0.223432    0.307832  \n",
       "4    0.233898   -0.505495   -0.688042    0.284192  \n",
       "\n",
       "[5 rows x 59 columns]"
      ]
     },
     "execution_count": 5,
     "metadata": {},
     "output_type": "execute_result"
    }
   ],
   "source": [
    "dataset = pd.read_csv(\"./datasets/19_retweet_text_doc2vec_new_text8.csv\", sep='=')\n",
    "X = dataset.iloc[:,9:].values\n",
    "dataset.head()"
   ]
  },
  {
   "cell_type": "markdown",
   "metadata": {},
   "source": [
    "Elbow method:"
   ]
  },
  {
   "cell_type": "code",
   "execution_count": 3,
   "metadata": {},
   "outputs": [
    {
     "data": {
      "image/png": "[encoded data removed]",
      "text/plain": [
       "<Figure size 432x288 with 1 Axes>"
      ]
     },
     "metadata": {
      "needs_background": "light"
     },
     "output_type": "display_data"
    }
   ],
   "source": [
    "#K-Means Clustering\n",
    "from sklearn.cluster import KMeans\n",
    "import time\n",
    "\n",
    "### Find Best K\n",
    "wcss = []\n",
    "for i in range(1, 11):\n",
    "    kmeans = KMeans(n_clusters=i, init=\"k-means++\", random_state=int(time.time()))\n",
    "    kmeans.fit(X)\n",
    "    wcss.append(kmeans.inertia_)\n",
    "##\n",
    "### Draw WCSS for each K\n",
    "import matplotlib.pyplot as plt\n",
    "##\n",
    "plt.plot(range(1, 11), wcss,'o-')\n",
    "plt.title(\"Elbow Method\")\n",
    "plt.xlabel(\"# of Clusters\")\n",
    "plt.ylabel(\"WCSS\")\n",
    "#plt.savefig(\"doc2vec_text8_elbow.png\")\n",
    "plt.show()"
   ]
  },
  {
   "cell_type": "markdown",
   "metadata": {},
   "source": [
    "Average Silhouette method:"
   ]
  },
  {
   "cell_type": "code",
   "execution_count": 4,
   "metadata": {},
   "outputs": [
    {
     "data": {
      "image/png": "[encoded data removed]",
      "text/plain": [
       "<Figure size 432x288 with 1 Axes>"
      ]
     },
     "metadata": {
      "needs_background": "light"
     },
     "output_type": "display_data"
    }
   ],
   "source": [
    "from sklearn.metrics import silhouette_score\n",
    "\n",
    "silhouette = []\n",
    "\n",
    "for i in range(2,11):\n",
    "    kmeans = KMeans(n_clusters=i, init=\"k-means++\", random_state=int(time.time()))\n",
    "    kmeans.fit(X)\n",
    "    silhouette.append(silhouette_score(X, kmeans.labels_))\n",
    "\n",
    "plt.plot(range(2, 11), silhouette,'o-')\n",
    "plt.title(\"Average Silhouette Method\")\n",
    "plt.xlabel(\"# of Clusters\")\n",
    "plt.ylabel(\"Average Silhouette\")\n",
    "plt.show()"
   ]
  },
  {
   "cell_type": "code",
   "execution_count": 6,
   "metadata": {},
   "outputs": [],
   "source": [
    "from sklearn.cluster import KMeans\n",
    "import time\n",
    "#Prediction\n",
    "kmeans = KMeans(n_clusters=2, init=\"k-means++\", random_state=int(time.time()))\n",
    "Y_pred = kmeans.fit_predict(X)"
   ]
  },
  {
   "cell_type": "code",
   "execution_count": 6,
   "metadata": {},
   "outputs": [],
   "source": [
    "dataset['pred'] = Y_pred\n",
    "dataset.to_csv(\"retweet_prediction_doc2vec.csv\")"
   ]
  },
  {
   "cell_type": "markdown",
   "metadata": {},
   "source": [
    "Visualization:"
   ]
  },
  {
   "cell_type": "code",
   "execution_count": 8,
   "metadata": {
    "scrolled": true
   },
   "outputs": [],
   "source": [
    "def PCA(X,isCorrMX):\n",
    "    n = np.mat(X).shape[0]\n",
    "    X = np.array(X)\n",
    "    z = X-np.mean(X,axis=0)\n",
    "    if(isCorrMX):\n",
    "        covariance = np.corrcoef(X.T)    #use correlation matrix\n",
    "    else:\n",
    "        covariance = z.T.dot(z)/(n-1)    #use covariance matrix\n",
    "    \n",
    "    eigVals, eigVecs = np.linalg.eig(covariance)   #find eigenvalues and eigenvectors\n",
    "    score = X.dot(eigVecs)   #score matrix\n",
    "    \n",
    "    plt.rcParams['font.sans-serif']=['Microsoft YaHei']\n",
    "    variance = eigVals\n",
    "    component = [i+1 for i in range(len(X[0]))]\n",
    "\n",
    "    cumulative = []\n",
    "    add = 0\n",
    "    for i in range(len(eigVals)):\n",
    "        add = add + eigVals[i]\n",
    "        cumulative.append(add)\n",
    "    cumulative_proportion = cumulative/sum(eigVals)\n",
    "\n",
    "    fig = plt.figure()\n",
    "    ax1 = fig.add_subplot(111)\n",
    "    ax1.bar(component,variance)\n",
    "#     ax1.set_xlim(0, 40)\n",
    "#     ax1.set_ylim(0, 800000)\n",
    "    ax1.set_ylabel('Variance',fontsize=13)\n",
    "\n",
    "    ax2 = ax1.twinx()\n",
    "    ax2.plot(component, cumulative_proportion*100,'k',marker='o')\n",
    "    ax2.set_ylabel('Cumulative Percentage（%）',fontsize=13)\n",
    "    ax2.set_ylim(0, 100)\n",
    "    \n",
    "    return eigVecs,eigVals,score,fig"
   ]
  },
  {
   "cell_type": "code",
   "execution_count": 9,
   "metadata": {},
   "outputs": [
    {
     "data": {
      "image/png": "[encoded data removed]",
      "text/plain": [
       "<Figure size 432x288 with 2 Axes>"
      ]
     },
     "metadata": {
      "needs_background": "light"
     },
     "output_type": "display_data"
    }
   ],
   "source": [
    "eigVecs,eigVals,score,fig = PCA(X,False)"
   ]
  },
  {
   "cell_type": "code",
   "execution_count": 10,
   "metadata": {},
   "outputs": [
    {
     "data": {
      "text/html": [
       "<div>\n",
       "<style scoped>\n",
       "    .dataframe tbody tr th:only-of-type {\n",
       "        vertical-align: middle;\n",
       "    }\n",
       "\n",
       "    .dataframe tbody tr th {\n",
       "        vertical-align: top;\n",
       "    }\n",
       "\n",
       "    .dataframe thead th {\n",
       "        text-align: right;\n",
       "    }\n",
       "</style>\n",
       "<table border=\"1\" class=\"dataframe\">\n",
       "  <thead>\n",
       "    <tr style=\"text-align: right;\">\n",
       "      <th></th>\n",
       "      <th>PC1</th>\n",
       "      <th>PC2</th>\n",
       "      <th>pred</th>\n",
       "    </tr>\n",
       "  </thead>\n",
       "  <tbody>\n",
       "    <tr>\n",
       "      <td>0</td>\n",
       "      <td>-0.154262</td>\n",
       "      <td>1.088466</td>\n",
       "      <td>1</td>\n",
       "    </tr>\n",
       "    <tr>\n",
       "      <td>1</td>\n",
       "      <td>0.108257</td>\n",
       "      <td>0.028266</td>\n",
       "      <td>1</td>\n",
       "    </tr>\n",
       "    <tr>\n",
       "      <td>2</td>\n",
       "      <td>-0.042345</td>\n",
       "      <td>0.247800</td>\n",
       "      <td>1</td>\n",
       "    </tr>\n",
       "    <tr>\n",
       "      <td>3</td>\n",
       "      <td>0.005838</td>\n",
       "      <td>-0.008037</td>\n",
       "      <td>1</td>\n",
       "    </tr>\n",
       "    <tr>\n",
       "      <td>4</td>\n",
       "      <td>0.026291</td>\n",
       "      <td>-0.117364</td>\n",
       "      <td>1</td>\n",
       "    </tr>\n",
       "    <tr>\n",
       "      <td>...</td>\n",
       "      <td>...</td>\n",
       "      <td>...</td>\n",
       "      <td>...</td>\n",
       "    </tr>\n",
       "    <tr>\n",
       "      <td>605</td>\n",
       "      <td>0.343945</td>\n",
       "      <td>1.688692</td>\n",
       "      <td>1</td>\n",
       "    </tr>\n",
       "    <tr>\n",
       "      <td>606</td>\n",
       "      <td>0.318307</td>\n",
       "      <td>1.689155</td>\n",
       "      <td>1</td>\n",
       "    </tr>\n",
       "    <tr>\n",
       "      <td>607</td>\n",
       "      <td>0.159341</td>\n",
       "      <td>2.210218</td>\n",
       "      <td>1</td>\n",
       "    </tr>\n",
       "    <tr>\n",
       "      <td>608</td>\n",
       "      <td>0.166646</td>\n",
       "      <td>2.234432</td>\n",
       "      <td>1</td>\n",
       "    </tr>\n",
       "    <tr>\n",
       "      <td>609</td>\n",
       "      <td>0.170327</td>\n",
       "      <td>2.248046</td>\n",
       "      <td>1</td>\n",
       "    </tr>\n",
       "  </tbody>\n",
       "</table>\n",
       "<p>610 rows × 3 columns</p>\n",
       "</div>"
      ],
      "text/plain": [
       "          PC1       PC2  pred\n",
       "0   -0.154262  1.088466     1\n",
       "1    0.108257  0.028266     1\n",
       "2   -0.042345  0.247800     1\n",
       "3    0.005838 -0.008037     1\n",
       "4    0.026291 -0.117364     1\n",
       "..        ...       ...   ...\n",
       "605  0.343945  1.688692     1\n",
       "606  0.318307  1.689155     1\n",
       "607  0.159341  2.210218     1\n",
       "608  0.166646  2.234432     1\n",
       "609  0.170327  2.248046     1\n",
       "\n",
       "[610 rows x 3 columns]"
      ]
     },
     "execution_count": 10,
     "metadata": {},
     "output_type": "execute_result"
    }
   ],
   "source": [
    "df = pd.DataFrame(score[:,0:2], columns=['PC1','PC2'])\n",
    "df['pred'] = Y_pred\n",
    "df"
   ]
  },
  {
   "cell_type": "code",
   "execution_count": 11,
   "metadata": {},
   "outputs": [
    {
     "data": {
      "image/png": "[encoded data removed]",
      "text/plain": [
       "<Figure size 401.875x360 with 1 Axes>"
      ]
     },
     "metadata": {
      "needs_background": "light"
     },
     "output_type": "display_data"
    }
   ],
   "source": [
    "import seaborn as sns\n",
    "facet = sns.lmplot(data=df, x='PC1', y='PC2', hue='pred', \n",
    "                   fit_reg=False, legend=True, legend_out=True)"
   ]
  },
  {
   "cell_type": "code",
   "execution_count": 45,
   "metadata": {},
   "outputs": [
    {
     "data": {
      "image/png": "[encoded data removed]",
      "text/plain": [
       "<Figure size 432x288 with 1 Axes>"
      ]
     },
     "metadata": {
      "needs_background": "light"
     },
     "output_type": "display_data"
    }
   ],
   "source": [
    "import matplotlib.pyplot as plt\n",
    "plt.scatter(df[\"PC1\"], df[\"PC2\"], marker='o')\n",
    "plt.show()"
   ]
  },
  {
   "cell_type": "code",
   "execution_count": null,
   "metadata": {},
   "outputs": [],
   "source": []
  }
 ],
 "metadata": {
  "kernelspec": {
   "display_name": "Python 3",
   "language": "python",
   "name": "python3"
  },
  "language_info": {
   "codemirror_mode": {
    "name": "ipython",
    "version": 3
   },
   "file_extension": ".py",
   "mimetype": "text/x-python",
   "name": "python",
   "nbconvert_exporter": "python",
   "pygments_lexer": "ipython3",
   "version": "3.7.7"
  }
 },
 "nbformat": 4,
 "nbformat_minor": 2
}
