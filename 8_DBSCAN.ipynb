{
 "cells": [
  {
   "cell_type": "code",
   "execution_count": 30,
   "metadata": {},
   "outputs": [],
   "source": [
    "from sklearn.decomposition import TruncatedSVD\n",
    "import numpy as np\n",
    "import pandas as pd"
   ]
  },
  {
   "cell_type": "code",
   "execution_count": 31,
   "metadata": {},
   "outputs": [
    {
     "name": "stdout",
     "output_type": "stream",
     "text": [
      "Index(['Unnamed: 0', 'is_RT', 'retweet_from', 'whole_tweet_text',\n",
      "       'original_text', 'retweet_text', 'stopwords_removed_retweet_text',\n",
      "       'feature_0', 'feature_1', 'feature_2',\n",
      "       ...\n",
      "       'feature_2416', 'feature_2417', 'feature_2418', 'feature_2419',\n",
      "       'feature_2420', 'feature_2421', 'feature_2422', 'feature_2423',\n",
      "       'feature_2424', 'feature_2425'],\n",
      "      dtype='object', length=2433)\n",
      "(610, 2426)\n",
      "Index(['feature_0', 'feature_1', 'feature_2', 'feature_3', 'feature_4',\n",
      "       'feature_5', 'feature_6', 'feature_7', 'feature_8', 'feature_9',\n",
      "       ...\n",
      "       'feature_2416', 'feature_2417', 'feature_2418', 'feature_2419',\n",
      "       'feature_2420', 'feature_2421', 'feature_2422', 'feature_2423',\n",
      "       'feature_2424', 'feature_2425'],\n",
      "      dtype='object', length=2426)\n"
     ]
    }
   ],
   "source": [
    "# data = pd.read_csv('./datasets/19_retweet_text_doc2vec_new_text8.csv', sep='=', encoding='utf8')\n",
    "data = pd.read_csv('./datasets/15_retweet_text_tfidf_robert_version.csv', sep=',', encoding='utf8')\n",
    "print(data.columns)\n",
    "\n",
    "data_selected = data.loc[:, 'feature_0':]\n",
    "print(data_selected.shape)\n",
    "print(data_selected.columns)"
   ]
  },
  {
   "cell_type": "markdown",
   "metadata": {},
   "source": [
    "# TruncatedSVD"
   ]
  },
  {
   "cell_type": "code",
   "execution_count": null,
   "metadata": {},
   "outputs": [],
   "source": [
    "# perform TruncatedSVD\n",
    "svd = TruncatedSVD(n_components=500, n_iter=10, random_state=100)\n",
    "svd.fit(data_selected)\n",
    "\n",
    "print(svd.explained_variance_ratio_.sum())\n",
    "print(svd.explained_variance_ratio_)\n",
    "print(svd.singular_values_)\n",
    "\n",
    "# fit transform the data\n",
    "data_svd = svd.fit_transform(data_selected)"
   ]
  },
  {
   "cell_type": "markdown",
   "metadata": {},
   "source": [
    "# DBSCAN"
   ]
  },
  {
   "cell_type": "code",
   "execution_count": 32,
   "metadata": {},
   "outputs": [],
   "source": [
    "from sklearn.cluster import DBSCAN"
   ]
  },
  {
   "cell_type": "code",
   "execution_count": 33,
   "metadata": {},
   "outputs": [
    {
     "name": "stdout",
     "output_type": "stream",
     "text": [
      "[-1 -1 -1 -1 -1 -1 -1 -1 -1 -1 -1 -1 -1 -1 -1 -1  0 -1 -1 -1 -1 -1 -1 -1\n",
      "  1  2 -1 -1 -1  2 -1 -1 -1 -1  1 -1 -1 -1 -1 -1 -1 -1 -1 -1 -1 -1 -1 -1\n",
      " -1 -1 -1 -1 -1 -1 -1 -1 -1 -1 -1 -1 -1 -1 -1 -1 -1 -1 -1 -1 -1 -1 -1 -1\n",
      " -1  0 -1 -1 -1 -1 -1 -1 -1 -1 -1 -1 -1 -1 -1 -1 -1 -1 -1 -1 -1 -1 -1 -1\n",
      " -1 -1 -1 -1 -1 -1 -1 -1 -1 -1 -1 -1 -1 -1 -1  3  3  3  4  4  4 -1 -1  5\n",
      " -1 -1  6 -1 -1 -1 -1 -1  5  5  5 -1 -1  6 -1 -1 -1  7 -1 -1 -1 -1 -1 -1\n",
      " -1 -1 -1  7  8  7  9 -1 -1 -1 10 11 12 -1 12 -1 -1 -1 -1 -1 13 -1 -1 14\n",
      " -1 -1 -1 -1 15 -1 10 11 -1 -1 -1 11 -1 -1 -1 -1 15 -1 -1 11 -1  9 14 -1\n",
      " -1 -1 -1 11 -1 -1 -1 -1 -1 16 -1 -1 -1 -1 -1 -1  7 -1 17 -1 -1 -1 -1 -1\n",
      " -1 -1 17 -1 -1 -1 -1 -1 18 -1 -1 -1 -1 -1 -1 -1 -1 -1 -1 -1 -1 -1 -1 16\n",
      " -1 -1 -1 -1 -1 18 -1 -1 -1 -1 -1 -1 -1 -1 -1 -1 -1 -1 -1 -1 -1 -1 19 -1\n",
      " -1 -1 -1 -1 20 -1 -1 -1 -1 -1 -1 -1 -1 -1 -1 -1 -1 -1 -1 -1 21 -1 22 -1\n",
      " -1 -1 -1 21 -1 -1 21 21 -1 -1 -1 -1 -1 -1 13 -1 -1 -1 -1 -1 -1 -1 19 -1\n",
      " -1 -1 -1 20 23 22 -1 -1 -1 19 -1 -1 -1 -1 -1 -1 -1 -1 21 -1 -1 -1 -1 -1\n",
      " -1 -1 -1 -1 -1 -1 -1 -1 -1 -1 -1 -1 13 -1 -1 -1 -1 -1 -1 -1 -1 -1 -1 -1\n",
      " -1 -1 -1 -1 -1 -1 -1 -1 -1 -1 -1 -1 -1 -1 -1 -1 -1 -1 -1 -1 -1 -1 -1 -1\n",
      " -1 -1 -1 -1 -1 -1 -1 -1 -1 -1 -1 -1 -1 -1 -1 -1 -1 -1 -1 -1 -1 -1 -1 -1\n",
      " -1 -1 -1 -1 -1 -1 -1 -1 -1 -1 -1 -1 -1 -1 -1 -1 -1 -1 -1 -1 -1 -1 -1 -1\n",
      " -1 -1 -1 -1 -1 -1 -1 -1 -1 -1 -1 -1 -1 -1 -1 -1 -1 -1 -1 -1 -1 -1 -1 -1\n",
      " -1 -1 -1 -1 -1 -1 -1 -1 -1 -1 -1 -1 -1 -1 -1 -1 -1 -1 -1 -1 -1 -1 -1 -1\n",
      " -1 -1 -1 -1 -1 -1 24 -1 -1 -1 -1 -1 -1 -1 -1 -1 -1 -1 -1 -1 -1 25 -1 -1\n",
      " -1 -1 -1 -1 -1 -1 -1 -1 -1 -1 -1 25 -1 26 -1 -1 -1  8 -1 -1 -1 -1 -1 -1\n",
      " -1 -1 -1 -1 -1 -1 -1 -1 -1 -1 -1 -1 24 -1 -1 -1 -1 -1 -1 -1 -1 -1 -1 -1\n",
      " -1 -1 -1 -1 -1 -1 -1 -1 27 -1 -1 -1 -1 -1 27 -1 -1 -1 -1 26 -1 -1 -1 -1\n",
      " -1 -1 -1 -1 -1 -1 -1 -1 -1 -1 -1 28 28 -1 23 -1 -1 -1 -1 -1 -1 -1 -1 -1\n",
      " -1 -1 -1 -1 -1 29 29 30 30 30]\n",
      "DBSCAN(algorithm='ball_tree', eps=1, leaf_size=30, metric='euclidean',\n",
      "       metric_params=None, min_samples=2, n_jobs=None, p=None)\n",
      "{0, 1, 2, 3, 4, 5, 6, 7, 8, 9, 10, 11, 12, 13, 14, 15, 16, 17, 18, 19, 20, 21, 22, 23, 24, 25, 26, 27, 28, 29, 30, -1}\n"
     ]
    }
   ],
   "source": [
    "data_svd = data_selected.to_numpy()\n",
    "\n",
    "clustering = DBSCAN(eps=1, min_samples=2, algorithm='ball_tree').fit(data_svd)\n",
    "print(clustering.labels_)\n",
    "print(clustering)\n",
    "print(set(clustering.labels_.tolist()))"
   ]
  },
  {
   "cell_type": "markdown",
   "metadata": {},
   "source": [
    "# Graph out result"
   ]
  },
  {
   "cell_type": "code",
   "execution_count": 34,
   "metadata": {},
   "outputs": [],
   "source": [
    "import numpy as np\n",
    "import pandas as pd\n",
    "import seaborn as sns\n",
    "from sklearn.decomposition import PCA"
   ]
  },
  {
   "cell_type": "code",
   "execution_count": 35,
   "metadata": {},
   "outputs": [
    {
     "name": "stdout",
     "output_type": "stream",
     "text": [
      "0.023060546108608464\n",
      "[0.01392906 0.00913149]\n",
      "[4.22861194 2.40685328]\n",
      "[[ 0.0705522  -0.1194539 ]\n",
      " [ 0.06437788 -0.12703917]\n",
      " [ 0.03062635 -0.06781766]\n",
      " [ 0.02252675 -0.04455517]\n",
      " [ 0.11338845  0.0534507 ]\n",
      " [ 0.05996616  0.02248409]\n",
      " [ 0.05873033  0.02093971]\n",
      " [ 0.03739607  0.0026585 ]\n",
      " [ 0.00678887 -0.01062816]\n",
      " [ 0.00886205 -0.0107663 ]]\n"
     ]
    }
   ],
   "source": [
    "# compress the data using tdidf vector\n",
    "\n",
    "# perform TruncatedSVD\n",
    "svd = TruncatedSVD(n_components=2, n_iter=10, random_state=100)\n",
    "svd.fit(data_selected)\n",
    "\n",
    "print(svd.explained_variance_ratio_.sum())\n",
    "print(svd.explained_variance_ratio_)\n",
    "print(svd.singular_values_)\n",
    "\n",
    "# fit transform the data\n",
    "data_graph = svd.fit_transform(data_selected)\n",
    "\n",
    "print(data_graph[:10])"
   ]
  },
  {
   "cell_type": "code",
   "execution_count": 36,
   "metadata": {},
   "outputs": [
    {
     "name": "stdout",
     "output_type": "stream",
     "text": [
      "        PC1       PC2  Pred\n",
      "0  0.070552 -0.119454    -1\n",
      "1  0.064378 -0.127039    -1\n",
      "2  0.030626 -0.067818    -1\n",
      "3  0.022527 -0.044555    -1\n",
      "4  0.113388  0.053451    -1\n"
     ]
    }
   ],
   "source": [
    "data_pred = pd.DataFrame(data=data_graph,\n",
    "                        columns=['PC1', 'PC2'])\n",
    "\n",
    "data_pred.loc[:, 'Pred'] = clustering.labels_\n",
    "\n",
    "print(data_pred.head())"
   ]
  },
  {
   "cell_type": "code",
   "execution_count": 37,
   "metadata": {},
   "outputs": [
    {
     "data": {
      "image/png": "[encoded data removed]",
      "text/plain": [
       "<Figure size 408.75x360 with 1 Axes>"
      ]
     },
     "metadata": {
      "needs_background": "light"
     },
     "output_type": "display_data"
    }
   ],
   "source": [
    "# graph out the result\n",
    "\n",
    "facet = sns.lmplot(data=data_pred, x='PC1', y='PC2', hue='Pred',\n",
    "                  fit_reg=False, legend=True, legend_out=True)"
   ]
  },
  {
   "cell_type": "markdown",
   "metadata": {},
   "source": [
    "# Concat the data back to original dataset"
   ]
  },
  {
   "cell_type": "code",
   "execution_count": 38,
   "metadata": {},
   "outputs": [
    {
     "name": "stdout",
     "output_type": "stream",
     "text": [
      "(610,)\n"
     ]
    }
   ],
   "source": [
    "output = pd.concat([data, data_pred], axis=1)\n",
    "output = output.loc[:, 'Pred']\n",
    "\n",
    "print(output.shape)\n",
    "\n",
    "output.to_csv(\"./predictions/retweet_DBSCAN_predictions_doc2vec.csv\", sep='\\t',\n",
    "             encoding='utf8', index=True)"
   ]
  }
 ],
 "metadata": {
  "kernelspec": {
   "display_name": "normal",
   "language": "python",
   "name": "normal"
  },
  "language_info": {
   "codemirror_mode": {
    "name": "ipython",
    "version": 3
   },
   "file_extension": ".py",
   "mimetype": "text/x-python",
   "name": "python",
   "nbconvert_exporter": "python",
   "pygments_lexer": "ipython3",
   "version": "3.7.7"
  }
 },
 "nbformat": 4,
 "nbformat_minor": 4
}
